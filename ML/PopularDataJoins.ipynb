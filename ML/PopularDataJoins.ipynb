{
  "nbformat": 4,
  "nbformat_minor": 0,
  "metadata": {
    "colab": {
      "provenance": []
    },
    "kernelspec": {
      "name": "python3",
      "display_name": "Python 3"
    },
    "language_info": {
      "name": "python"
    }
  },
  "cells": [
    {
      "cell_type": "code",
      "execution_count": 1,
      "metadata": {
        "colab": {
          "base_uri": "https://localhost:8080/"
        },
        "id": "Y_XKc1sAwhgl",
        "outputId": "7a25c5b7-f6c5-483f-d5e6-9e4a478f9f7a"
      },
      "outputs": [
        {
          "output_type": "stream",
          "name": "stdout",
          "text": [
            "Employees:\n",
            "    employee_id     name  department_id\n",
            "0          101    Alice              1\n",
            "1          102      Bob              2\n",
            "2          103  Charlie              2\n",
            "3          104    David              3\n",
            "\n",
            "Departments:\n",
            "    department_id department_name\n",
            "0              1              HR\n",
            "1              2     Engineering\n",
            "2              4       Marketing\n",
            "\n",
            "INNER JOIN:\n",
            "    employee_id     name  department_id department_name\n",
            "0          101    Alice              1              HR\n",
            "1          102      Bob              2     Engineering\n",
            "2          103  Charlie              2     Engineering\n",
            "\n",
            "LEFT JOIN:\n",
            "    employee_id     name  department_id department_name\n",
            "0          101    Alice              1              HR\n",
            "1          102      Bob              2     Engineering\n",
            "2          103  Charlie              2     Engineering\n",
            "3          104    David              3             NaN\n",
            "\n",
            "RIGHT JOIN:\n",
            "    employee_id     name  department_id department_name\n",
            "0        101.0    Alice              1              HR\n",
            "1        102.0      Bob              2     Engineering\n",
            "2        103.0  Charlie              2     Engineering\n",
            "3          NaN      NaN              4       Marketing\n",
            "\n",
            "OUTER JOIN:\n",
            "    employee_id     name  department_id department_name\n",
            "0        101.0    Alice              1              HR\n",
            "1        102.0      Bob              2     Engineering\n",
            "2        103.0  Charlie              2     Engineering\n",
            "3        104.0    David              3             NaN\n",
            "4          NaN      NaN              4       Marketing\n"
          ]
        }
      ],
      "source": [
        "# Popular joins of data\n",
        "# Joins\n",
        "import pandas as pd\n",
        "\n",
        "# ----------------------------\n",
        "# STEP 1: Create sample DataFrames\n",
        "# ----------------------------\n",
        "# I cannot share customer data so created simple dataset for illustration purposes\n",
        "\n",
        "# Employees table\n",
        "employees = pd.DataFrame({\n",
        "    'employee_id': [101, 102, 103, 104],\n",
        "    'name': ['Alice', 'Bob', 'Charlie', 'David'],\n",
        "    'department_id': [1, 2, 2, 3]\n",
        "})\n",
        "\n",
        "# Departments table\n",
        "departments = pd.DataFrame({\n",
        "    'department_id': [1, 2, 4],\n",
        "    'department_name': ['HR', 'Engineering', 'Marketing']\n",
        "})\n",
        "\n",
        "print(\"Employees:\\n\", employees)\n",
        "print(\"\\nDepartments:\\n\", departments)\n",
        "\n",
        "# ----------------------------\n",
        "# STEP 2: Join Examples\n",
        "# ----------------------------\n",
        "\n",
        "# 1. INNER JOIN (only matching records)\n",
        "inner_join = pd.merge(employees, departments, on='department_id', how='inner')\n",
        "print(\"\\nINNER JOIN:\\n\", inner_join)\n",
        "\n",
        "# 2. LEFT JOIN (all employees, match departments)\n",
        "left_join = pd.merge(employees, departments, on='department_id', how='left')\n",
        "print(\"\\nLEFT JOIN:\\n\", left_join)\n",
        "\n",
        "# 3. RIGHT JOIN (all departments, match employees)\n",
        "right_join = pd.merge(employees, departments, on='department_id', how='right')\n",
        "print(\"\\nRIGHT JOIN:\\n\", right_join)\n",
        "\n",
        "# 4. OUTER JOIN (all records from both sides)\n",
        "outer_join = pd.merge(employees, departments, on='department_id', how='outer')\n",
        "print(\"\\nOUTER JOIN:\\n\", outer_join)"
      ]
    }
  ]
}